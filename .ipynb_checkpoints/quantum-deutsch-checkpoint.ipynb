{
 "cells": [
  {
   "cell_type": "markdown",
   "metadata": {},
   "source": [
    "# Deutsch's Algorithm\n",
    "\n",
    "***"
   ]
  },
  {
   "cell_type": "markdown",
   "metadata": {},
   "source": []
  },
  {
   "cell_type": "markdown",
   "metadata": {},
   "source": [
    "## What is quantum computing? \n",
    "Quantum computing can be defined as the use of qubits that utlizse specfic properties of quantum mechanics like quantum entanglement and superposition to solves problems  that classical computer is much slower to solve.\n",
    "\n",
    "what is quantum entanglement? \n",
    "Quantum Entanglement is when two particles are generated or interact in a way that each one individualy cannot be measured without determining the state of the other.\n",
    "\n",
    "what is superpositioning? \n",
    "Superpositioning: When a particle can exist in two possible states and until measured will have a probability of being in either state.\n",
    "\n",
    "what is a Qubit?\n",
    "A Qubit is the unit of which  quantum information is stored and has the capacity to exist in two states. qubit can be many different things depending on the type quantum computer using it such as the [2]A spin of an electron which is either in spin up or spin down or the poloarization of a photon which is either vertical polerization or horizontal polarization.\n",
    "\n",
    "how does quantum computing utilize these properties?\n",
    "As stated above A qubit utilizes the superpositing. What makes this so usefull is that where a classical bit is in either 1/0, when we add another bit a classical computer it gains the same amount of computational power, When we add a qubit,the computational power increases exponentially. This coupled with the fact that in ideal condtions the qubits will be tangled means that changing the state of 1 qubit will change the state of the paired qubit immeditely. So when we measure in input we will know the output, versus classical computing where you know the input and workout a process to get the output.\n",
    "\n",
    "\n",
    "what is classical computing ?\n",
    "Classical computing is information being encoded in bits that are either in the states of 1 or 0. At a low level series of bits are chained together to form gates and chips that carry out logical operations.\n",
    "\n",
    "\n",
    "how does quantum computing and classical computing differe? \n",
    "Classical computing is stores data in bits, quantum computing stores in qubits.\n",
    "Classical computing depends on a central processing which utilizes a large amount of transistors for sending out logical commands to the a computer, Quantum computings cpu equivlent is the grouping of Qbits.\n",
    "Classical computing will still be used for day to day tasks, Qauntum computing in its current state will be used in niche areas such as the simulation of chemical reactions or prime factorization\n",
    "\n",
    "***"
   ]
  },
  {
   "cell_type": "markdown",
   "metadata": {},
   "source": [
    "## what is Deutch's Algorithm? \n",
    "\n",
    "***\n",
    "Deutschs algorithm was the first described algorithm in which a quantum computer could solve faster then a classical computer.  given a block box that implements an unkown function it can determine if a function  outputs the same bit(constant function) or if the function outputs different bits on differend outputs(balanced function). utilizing two qubits which pass through a Hadamard gate's that create a uniform super position,that then go through function. the first q bit then goes through another Hadamard gate's and is then measured. In a single instance it can always be determined if the function is constant or balanced with the qauntum solution but in a classical solution in best case can determine this in in two insaces.\n",
    "\n"
   ]
  },
  {
   "cell_type": "code",
   "execution_count": 1,
   "metadata": {},
   "outputs": [],
   "source": [
    "# Qiskit itself is quantum components\n",
    "import qiskit\n",
    "# Qusikit aer is to simulate these quantum components\n",
    "import qiskit.providers.aer as aer\n",
    "# Diagrams\n",
    "import matplotlib.pyplot as plt\n",
    "\n",
    "# Random numbers\n",
    "import random "
   ]
  },
  {
   "cell_type": "code",
   "execution_count": 2,
   "metadata": {},
   "outputs": [],
   "source": [
    "# change pyplot style\n",
    "plt.style.use('ggplot')"
   ]
  },
  {
   "cell_type": "markdown",
   "metadata": {},
   "source": [
    "## Preliminaries\n",
    "\n",
    "***"
   ]
  },
  {
   "cell_type": "markdown",
   "metadata": {},
   "source": [
    "### Qubits\n",
    "***\n",
    "When you measure an electron this is the two states it can be<br>\n",
    "$|0 \\rangle = \\begin{bmatrix} 1 \\\\ 0 \\end{bmatrix}$\n",
    "<br>\n",
    "$|1 \\rangle = \\begin{bmatrix} 1 \\\\ 0 \\end{bmatrix}$\n",
    "<br>\n",
    "\n",
    "$|\\psi \\rangle = \\begin{bmatrix} \\alpha \\\\ \\beta \\end{bmatrix}$ <br>\n",
    "$\\psi $ this represents 0,1 or anything between 0 and 1. When measuring a qubits value its 0 or 1 but in a quantum circuit it be a hybrid of both.\n",
    "<br>\n",
    "$\\alpha$ and  $\\beta$ represent complex numbers <br>\n",
    "The rules for defining $\\alpha$ and $\\beta$ are as follows <br>\n",
    "$\\alpha = a + bi \\qquad \\beta  = c + di \\qquad a,b,c,d \\in \\mathbb{r} $<br>\n",
    "$\\alpha^2 + \\beta^2 = 1$\n"
   ]
  },
  {
   "cell_type": "markdown",
   "metadata": {},
   "source": [
    "<br>\n",
    "\n",
    "### Gates\n",
    "\n",
    "***\n",
    "This is a mathmatical representation of Hadamard gate <br>\n",
    "$ H = \\begin{bmatrix} \\frac{1}{\\sqrt{2}} & \\frac{1}{\\sqrt{2}}  \\\\ \\frac{1}{\\sqrt{2}} & -\\frac{1}{\\sqrt{2}} \\end{bmatrix} = \\frac{1}{\\sqrt{2}} \\begin{bmatrix} 1 & 1 \\\\ 1 & -1 \\end{bmatrix}  $ \n",
    "<br>\n",
    "This is a mathmatical represntation of how use quantum gates to manipulate the 0 qubit\n",
    "<br>\n",
    "$ H | 0 \\rangle = \\frac{1}{\\sqrt{2}} \\begin{bmatrix} 1 & 1 \\\\ 1 & -1 \\end{bmatrix} \\begin{bmatrix} 1 \\\\ 0 \\end{bmatrix} = \\frac{1}{\\sqrt{2}}  \\begin{bmatrix} 1 \\\\ 1 \\end{bmatrix} = \\begin{bmatrix} \\frac{1}{\\sqrt{2}} \\\\ \\frac{1}{\\sqrt{2}} \\end{bmatrix} = |+\\rangle $ \n",
    "<br> \n",
    "Using the equations above for proof <br>\n",
    "$ \\frac{1}{\\sqrt{2}}^2 +  \\frac{1}{\\sqrt{2}}^2 = 1$\n",
    "<br>\n",
    "$ 0.5 + 0.5 = 1$\n",
    "<br>\n",
    "Thus this is a qubit and has 50% probablilty of being a 1 or a 0 when measured.\n",
    "<br>\n",
    "<br>\n",
    " This is a mathmatical represntation of how use quantum gates to manipulate the 1 qubit\n",
    "<br>\n",
    "$ H | 1 \\rangle = \\frac{1}{\\sqrt{2}} \\begin{bmatrix} 1 & 1 \\\\ 1 & -1 \\end{bmatrix} \\begin{bmatrix} 0 \\\\ 1 \\end{bmatrix} = \\frac{1}{\\sqrt{2}}  \\begin{bmatrix} 1 \\\\ -1 \\end{bmatrix} = \\begin{bmatrix} \\frac{1}{\\sqrt{2}} \\\\ -\\frac{1}{\\sqrt{2}} \\end{bmatrix} = |-\\rangle $\n",
    "<br> \n",
    "Using the equations above for proof <br>\n",
    "$ \\frac{1}{\\sqrt{2}}^2 - \\frac{1}{\\sqrt{2}}^2 = 1$\n",
    "<br>\n",
    "$ 0.5 + 0.5 = 1$\n",
    "<br>\n",
    "Thus this is a qubit and has 50% probablilty of being a 1 or a 0 when measured\n",
    "<br>\n",
    "<br>\n",
    "proof for quantum qubit gate is $H^{*} = H^{-1}$ \n",
    "\n",
    "$H^{*} =\\begin{bmatrix}\\frac{1}{\\sqrt{2}} & \\frac{1}{\\sqrt{2}}  \\\\ \\frac{1}{\\sqrt{2}} & -\\frac{1}{\\sqrt{2}} \\end{bmatrix} $\n",
    "\n",
    "$H^{-1} =\\begin{bmatrix}\\frac{1}{\\sqrt{2}} & \\frac{1}{\\sqrt{2}}  \\\\ \\frac{1}{\\sqrt{2}} & -\\frac{1}{\\sqrt{2}} \\end{bmatrix} $\n",
    "\n",
    "Identify matrix is <br>\n",
    "$ I =\\begin{bmatrix}0 & 1  \\\\ 1 & 0 \\end{bmatrix} $\n"
   ]
  },
  {
   "cell_type": "markdown",
   "metadata": {},
   "source": [
    "<br>\n",
    "\n",
    "### Measurement\n",
    "\n",
    "***\n",
    "\n",
    "$|\\psi \\rangle = \\begin{bmatrix} \\alpha \\\\ \\beta \\end{bmatrix} \\Leftrightarrow \\langle \\psi  | = \\begin{bmatrix} \\alpha^* & \\beta^* \\end{bmatrix}$\n",
    "\n",
    "$|\\psi \\rangle $ is a called bra  <br> <br>\n",
    "$ \\begin{bmatrix} \\alpha \\\\ \\beta \\end{bmatrix}$ is called they ket <br>\n",
    "$ \\Leftrightarrow \\langle \\psi  | = \\begin{bmatrix} \\alpha^* & \\beta^* \\end{bmatrix}$ we get the bra of the ket i.e turn the column vector in row vector then if the entry has an imaginary component put a minus infront of it.\n",
    "\n",
    "\n",
    "Formula for conjugate  <br>\n",
    "$|a + bi| = \\sqrt{(a+bi)(a-bi)} = \\sqrt{a^2 + b^2} $\n",
    "\n",
    "##### Probablilty of measuring $0\\rangle$ when in $|+\\rangle$\n",
    "\n",
    "$|\\langle 0 | + \\rangle|^2= |\\begin{bmatrix} 1 & 0 \\end{bmatrix} \\begin{bmatrix} \\frac{1}{\\sqrt{2}}\\\\ \\frac{1}{\\sqrt{2}}\\end{bmatrix} |^2 = 1/2 $  <br>\n",
    "\n",
    "if you are in the plus state, you have the probablity of a half  to measure a 0\n",
    "\n",
    "##### Probablilty of measuring $1\\rangle$ when in $|-\\rangle$\n",
    "\n",
    "$|\\langle 1 | - \\rangle|^2= |\\begin{bmatrix} 0 & 1 \\end{bmatrix} \\begin{bmatrix} \\frac{1}{\\sqrt{2}}\\\\  -\\frac{1}{\\sqrt{2}}\\end{bmatrix} |^2 = 1/2 $  <br>\n",
    "\n",
    "if you are in the minus state, you have the probablity of a half  to measure a 1\n",
    "\n",
    "##### Probablilty of measuring $1\\rangle$ when in $|0\\rangle$\n",
    "\n",
    "$|\\langle 1 | 0\\rangle|^2= =|\\begin{bmatrix} 0 & 1 \\end{bmatrix} \\begin{bmatrix} 1 \\\\ 0 \\end{bmatrix} |^2 = 0 $  <br>\n",
    "\n",
    "if you are in the 0 state, you have the probablity of 0  to measure a 1\n",
    "\n",
    "\n"
   ]
  },
  {
   "cell_type": "markdown",
   "metadata": {},
   "source": [
    "### Multiple qubits\n",
    "\n",
    "***"
   ]
  },
  {
   "cell_type": "code",
   "execution_count": 95,
   "metadata": {},
   "outputs": [],
   "source": [
    "# Return a random (part of) circuit - implemetening the quantum oracale for f\n",
    "def random_f(): \n",
    "    # Create a circuit with 2 qubits, 1 classical bit\n",
    "    circuit = qiskit.QuantumCircuit(2,1) \n",
    "    \n",
    "    # Pick one of the four functions using a pseduo random function\n",
    "    f_number = random.randint(1,4)\n",
    "    \n",
    "    # 1: Constant 0 function. f(0) = f(1) = 0.\n",
    "    # 1: Constant 1 function. f(0) = f(1) = 1.\n",
    "    # 3: balanced identity function. f(0) = 0, f(1) = 1.\n",
    "    # 4: balanced not function. f(0) = 1, f(1) = 0.\n",
    "    \n",
    "    if f_number == 1:\n",
    "        # Apply Indentity gate to second qubit.\n",
    "        circuit.i(1)\n",
    "    elif f_number == 2:\n",
    "        # Apply Pauli x gate to second qubit.\n",
    "        circuit.x(1)\n",
    "    elif f_number == 3:\n",
    "        # Apply CNOT gate to from first to second qubit.\n",
    "        circuit.cnot(0,1)\n",
    "    elif f_number == 4:\n",
    "        # Apply CNOT gate to from first to second qubit.\n",
    "        circuit.cnot(0,1)\n",
    "        # Apply Pauli x gate to second qubit.\n",
    "    else:\n",
    "        print(\"Invalid number please try again\")\n",
    "    # return the circuit\n",
    "    return circuit\n",
    "    "
   ]
  },
  {
   "cell_type": "markdown",
   "metadata": {},
   "source": [
    "<br>\n",
    "\n",
    "## Create First Part of Circuit\n",
    "\n",
    "***"
   ]
  },
  {
   "cell_type": "code",
   "execution_count": 94,
   "metadata": {},
   "outputs": [
    {
     "data": {
      "image/png": "[encoded data removed]",
      "text/plain": [
       "<Figure size 480.694x368.424 with 1 Axes>"
      ]
     },
     "execution_count": 94,
     "metadata": {},
     "output_type": "execute_result"
    }
   ],
   "source": [
    "# Create a quantum circuit\n",
    "circuit = qiskit.QuantumCircuit(2,1)\n",
    "    \n",
    "# Intilise the first qubit to 0\n",
    "circuit.initialize([1,0],0)\n",
    "\n",
    "# Initialise the second qubit to 1\n",
    "circuit.initialize([0,1],1)\n",
    "\n",
    "#Apply a Hadamard gate to the first and second qubit.\n",
    "circuit.h([0,1])\n",
    "\n",
    "# Seperate parts of circuit.\n",
    "circuit.barrier()\n",
    "\n",
    "# Visual representation of quantum circut\n",
    "circuit.draw(output='mpl', scale=1.8)\n"
   ]
  },
  {
   "cell_type": "markdown",
   "metadata": {},
   "source": [
    "<br>\n",
    "\n",
    "### Create Second Part of Curcuit\n",
    "\n",
    "***"
   ]
  },
  {
   "cell_type": "code",
   "execution_count": 93,
   "metadata": {},
   "outputs": [
    {
     "data": {
      "image/png": "[encoded data removed]",
      "text/plain": [
       "<Figure size 1239.21x368.424 with 1 Axes>"
      ]
     },
     "execution_count": 93,
     "metadata": {},
     "output_type": "execute_result"
    }
   ],
   "source": [
    "# Append the random_f circuit to circuit.\n",
    "circuit.compose(random_f(), inplace=True)\n",
    "\n",
    "# Seperate parts of circuit.\n",
    "circuit.barrier()\n",
    "# Draw the circuit.\n",
    "circuit.draw(output=\"mpl\", scale=1.8)"
   ]
  },
  {
   "cell_type": "markdown",
   "metadata": {},
   "source": [
    "<br>\n",
    "\n",
    "### Create Third Part of Curcuit\n",
    "\n",
    "***"
   ]
  },
  {
   "cell_type": "code",
   "execution_count": 92,
   "metadata": {},
   "outputs": [
    {
     "data": {
      "image/png": "[encoded data removed]",
      "text/plain": [
       "<Figure size 1130.85x368.424 with 1 Axes>"
      ]
     },
     "execution_count": 92,
     "metadata": {},
     "output_type": "execute_result"
    }
   ],
   "source": [
    "#Apply another Hadamard gate to the first qubit.\n",
    "circuit.h(0)\n",
    "\n",
    "# Measure the first qubit\n",
    "circuit.measure(0,0)\n",
    "\n",
    "# Draw the circuit\n",
    "circuit.draw(output=\"mpl\", scale=1.8)"
   ]
  },
  {
   "cell_type": "markdown",
   "metadata": {},
   "source": [
    "<br>\n",
    "\n",
    "## Simulate and Decide \n",
    "\n",
    "***"
   ]
  },
  {
   "cell_type": "code",
   "execution_count": 91,
   "metadata": {},
   "outputs": [
    {
     "data": {
      "image/png": "[encoded data removed]",
      "text/plain": [
       "<Figure size 72x288 with 1 Axes>"
      ]
     },
     "execution_count": 91,
     "metadata": {},
     "output_type": "execute_result"
    }
   ],
   "source": [
    "# Create a simulation instance to run circut\n",
    "simulation = aer.QasmSimulator()\n",
    "\n",
    "# Compile the circut in the simulator.\n",
    "compcircuit = qiskit.transpile(circuit, simulation)\n",
    "\n",
    "# simulate the circuit 500 times.\n",
    "job = simulation.run(compcircuit, shots = 1000)\n",
    "\n",
    "# Get the results from circuit simulation\n",
    "results = job.result()\n",
    "\n",
    "# show the result counts\n",
    "count = results.get_counts()\n",
    "\n",
    "qiskit.visualization.plot_histogram(count,figsize=(1,4))"
   ]
  },
  {
   "cell_type": "markdown",
   "metadata": {},
   "source": [
    "<br>\n",
    "\n",
    "## Constant Zero Function\n",
    "\n",
    "***"
   ]
  },
  {
   "cell_type": "code",
   "execution_count": 90,
   "metadata": {},
   "outputs": [],
   "source": [
    "# Create a Quantum circut with two qubits \n",
    "circutQ = qiskit.QuantumCircuit(2, 1)\n",
    "\n"
   ]
  },
  {
   "cell_type": "code",
   "execution_count": 89,
   "metadata": {},
   "outputs": [
    {
     "data": {
      "image/png": "[encoded data removed]",
      "text/plain": [
       "<Figure size 72x288 with 1 Axes>"
      ]
     },
     "execution_count": 89,
     "metadata": {},
     "output_type": "execute_result"
    }
   ],
   "source": [
    "# Create a simulation instance to run circut\n",
    "simulation = aer.QasmSimulator()\n",
    "\n",
    "# Compile the circut in the simulator.\n",
    "compcircuit = qiskit.transpile(circutQ, simulation)\n",
    "\n",
    "# simulate the circuit 500 times.\n",
    "job = simulation.run(compcircuit, shots = 1000)\n",
    "\n",
    "# Get the results from circuit simulation\n",
    "results = job.result()\n",
    "\n",
    "# show the result counts\n",
    "count = results.get_counts()\n",
    "\n",
    "qiskit.visualization.plot_histogram(count,figsize=(1,4))"
   ]
  },
  {
   "cell_type": "markdown",
   "metadata": {},
   "source": [
    "### Constant One Function\n",
    "if input is zero you get one if input is one you get one\n",
    "***"
   ]
  },
  {
   "cell_type": "code",
   "execution_count": 88,
   "metadata": {},
   "outputs": [
    {
     "data": {
      "image/png": "[encoded data removed]",
      "text/plain": [
       "<Figure size 589.054x368.424 with 1 Axes>"
      ]
     },
     "execution_count": 88,
     "metadata": {},
     "output_type": "execute_result"
    }
   ],
   "source": [
    "# Create a Quantum circut with two qubits \n",
    "circutQ = qiskit.QuantumCircuit(2, 1)\n",
    "\n",
    "# Intilise the first qubit to 0\n",
    "circutQ.initialize([1,0],0)\n",
    "\n",
    "# Initialise the second qubit to 1\n",
    "circutQ.initialize([0,1],1)\n",
    "\n",
    "#Apply a Hadamard gate to the first and second qubit.\n",
    "circutQ.h([0,1])\n",
    "\n",
    "# x gate\n",
    "circutQ.x(1)\n",
    "\n",
    "# Apply a hadamard gate to first qubit\n",
    "circutQ.h(0)\n",
    "\n",
    "\n",
    "# Measure the first qubit to the first classical bit .\n",
    "circutQ.measure(0,0)\n",
    "\n",
    "# Visual representation of quantum circut\n",
    "circutQ.draw(output='mpl', scale=1.8)"
   ]
  },
  {
   "cell_type": "code",
   "execution_count": 87,
   "metadata": {},
   "outputs": [
    {
     "data": {
      "image/png": "[encoded data removed]",
      "text/plain": [
       "<Figure size 72x288 with 1 Axes>"
      ]
     },
     "execution_count": 87,
     "metadata": {},
     "output_type": "execute_result"
    }
   ],
   "source": [
    "# Create a simulation instance to run circut\n",
    "simulation = aer.QasmSimulator()\n",
    "\n",
    "# Compile the circut in the simulator.\n",
    "compcircuit = qiskit.transpile(circutQ, simulation)\n",
    "\n",
    "# simulate the circuit 500 times.\n",
    "job = simulation.run(compcircuit, shots = 1000)\n",
    "\n",
    "# Get the results from circuit simulation\n",
    "results = job.result()\n",
    "\n",
    "# show the result counts\n",
    "count = results.get_counts()\n",
    "\n",
    "qiskit.visualization.plot_histogram(count,figsize=(1,4))"
   ]
  },
  {
   "cell_type": "markdown",
   "metadata": {},
   "source": [
    "<br>\n",
    "\n",
    "## Example of a a Balanced function: $f(0) = 0, f(1) = 1$\n",
    "***"
   ]
  },
  {
   "cell_type": "code",
   "execution_count": 86,
   "metadata": {},
   "outputs": [
    {
     "data": {
      "image/png": "[encoded data removed]",
      "text/plain": [
       "<Figure size 697.414x368.424 with 1 Axes>"
      ]
     },
     "execution_count": 86,
     "metadata": {},
     "output_type": "execute_result"
    }
   ],
   "source": [
    "# Create a Quantum circut with two qubits \n",
    "circutQ = qiskit.QuantumCircuit(2, 1)\n",
    "\n",
    "# Intilise the first qubit to 0\n",
    "circutQ.initialize([1,0],0)\n",
    "\n",
    "# Initialise the second qubit to 1\n",
    "circutQ.initialize([0,1],1)\n",
    "\n",
    "#Apply a Hadamard gate to the first and second qubit.\n",
    "circutQ.h([0,1])\n",
    "\n",
    "# cnot gate\n",
    "circutQ.cnot(0,1)\n",
    "\n",
    "# Apply a hadamard gate to first qubit\n",
    "circutQ.h(0)\n",
    "\n",
    "\n",
    "# Measure the first qubit to the first classical bit .\n",
    "circutQ.measure(0,0)\n",
    "\n",
    "# Visual representation of quantum circut\n",
    "circutQ.draw(output='mpl', scale=1.8)"
   ]
  },
  {
   "cell_type": "code",
   "execution_count": 85,
   "metadata": {},
   "outputs": [
    {
     "data": {
      "image/png": "[encoded data removed]",
      "text/plain": [
       "<Figure size 72x288 with 1 Axes>"
      ]
     },
     "execution_count": 85,
     "metadata": {},
     "output_type": "execute_result"
    }
   ],
   "source": [
    "# Create a simulation instance to run circut\n",
    "simulation = aer.QasmSimulator()\n",
    "\n",
    "# Compile the circut in the simulator.\n",
    "compcircuit = qiskit.transpile(circutQ, simulation)\n",
    "\n",
    "# simulate the circuit 500 times.\n",
    "job = simulation.run(compcircuit, shots = 1000)\n",
    "\n",
    "# Get the results from circuit simulation\n",
    "results = job.result()\n",
    "\n",
    "# show the result counts\n",
    "count = results.get_counts()\n",
    "\n",
    "qiskit.visualization.plot_histogram(count,figsize=(1,4))"
   ]
  },
  {
   "cell_type": "markdown",
   "metadata": {},
   "source": [
    "<br>\n",
    "\n",
    "##  Example of a a Balanced function : $f(0) = 0, f(1) = 0$\n",
    "\n",
    "***"
   ]
  },
  {
   "cell_type": "code",
   "execution_count": 84,
   "metadata": {},
   "outputs": [
    {
     "data": {
      "image/png": "[encoded data removed]",
      "text/plain": [
       "<Figure size 697.414x368.424 with 1 Axes>"
      ]
     },
     "execution_count": 84,
     "metadata": {},
     "output_type": "execute_result"
    }
   ],
   "source": [
    "# Create a Quantum circut with two qubits \n",
    "circutQ = qiskit.QuantumCircuit(2, 1)\n",
    "\n",
    "# Intilise the first qubit to 0\n",
    "circutQ.initialize([1,0],0)\n",
    "\n",
    "# Initialise the second qubit to 1\n",
    "circutQ.initialize([0,1],1)\n",
    "\n",
    "#Apply a Hadamard gate to the first and second qubit.\n",
    "circutQ.h([0,1])\n",
    "\n",
    "# cnot gate\n",
    "circutQ.cnot(0,1)\n",
    "\n",
    "# Apply x to second qubit.\n",
    "circutQ.x(1)\n",
    "\n",
    "# Apply a hadamard gate to first qubit\n",
    "circutQ.h(0)\n",
    "\n",
    "\n",
    "# Measure the first qubit to the first classical bit .\n",
    "circutQ.measure(0,0)\n",
    "\n",
    "# Visual representation of quantum circut\n",
    "circutQ.draw(output='mpl', scale=1.8)"
   ]
  },
  {
   "cell_type": "markdown",
   "metadata": {},
   "source": [
    "<br>\n",
    "\n",
    "## Refernces\n",
    "\n",
    "***"
   ]
  },
  {
   "cell_type": "markdown",
   "metadata": {},
   "source": [
    "https://www.ncbi.nlm.nih.gov/books/NBK538701/\n",
    "https://www.technologyreview.com/2019/01/29/66141/what-is-quantum-computing/\n",
    "https://jqi.umd.edu/glossary/quantum-superposition\n",
    "https://en.wikipedia.org/wiki/Quantum_superposition\n",
    "https://en.wikipedia.org/wiki/Quantum_entanglement\n",
    "https://research.aimultiple.com/quantum-computing-entanglement/\n",
    "https://www.cbinsights.com/research/quantum-computing-classical-computing-comparison-infographic/\n",
    "https://www.isical.ac.in/~rcbose/internship/lectures2016/rt08deutschjozsa.pdf\n",
    "https://people.vcu.edu/~sgharibian/courses/CMSC491/notes/Lecture%206%20-%20Deutsch's%20algorithm.pdf\n",
    "https://qiskit.org/textbook/ch-algorithms/deutsch-jozsa.html\n",
    "https://learnonline.gmit.ie/course/view.php?id=3762"
   ]
  }
 ],
 "metadata": {
  "kernelspec": {
   "display_name": "Python 3",
   "language": "python",
   "name": "python3"
  },
  "language_info": {
   "codemirror_mode": {
    "name": "ipython",
    "version": 3
   },
   "file_extension": ".py",
   "mimetype": "text/x-python",
   "name": "python",
   "nbconvert_exporter": "python",
   "pygments_lexer": "ipython3",
   "version": "3.8.5"
  }
 },
 "nbformat": 4,
 "nbformat_minor": 4
}
